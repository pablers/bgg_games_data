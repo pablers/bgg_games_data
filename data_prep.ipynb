{
 "metadata": {
  "language_info": {
   "codemirror_mode": {
    "name": "ipython",
    "version": 3
   },
   "file_extension": ".py",
   "mimetype": "text/x-python",
   "name": "python",
   "nbconvert_exporter": "python",
   "pygments_lexer": "ipython3",
   "version": "3.8.5-final"
  },
  "orig_nbformat": 2,
  "kernelspec": {
   "name": "python3",
   "display_name": "Python 3",
   "language": "python"
  }
 },
 "nbformat": 4,
 "nbformat_minor": 2,
 "cells": [
  {
   "source": [
    "##Empezando a trabajar con la información..."
   ],
   "cell_type": "markdown",
   "metadata": {}
  },
  {
   "cell_type": "code",
   "execution_count": null,
   "metadata": {},
   "outputs": [],
   "source": [
    "import pandas as pd\n",
    "\n",
    "basic_data = pd.read_csv('data/basic_data.csv')\n",
    "basic_data.info()"
   ]
  },
  {
   "source": [
    "En primer lugar vamos a eliminar las columnas que no van a tener ninguna utilidad para nuestro proyecto. Y para tener una visualización más clara vamos a ordenar los juegos según su ranking que vienen dados en la columna 'bggrank'."
   ],
   "cell_type": "markdown",
   "metadata": {}
  },
  {
   "cell_type": "code",
   "execution_count": null,
   "metadata": {},
   "outputs": [],
   "source": [
    "basic_data = basic_data.drop(columns=['description', 'image', 'thumbnail'])\n",
    "basic_data = basic_data.sort_values(by=['bggrank'], ascending=True)\n",
    "basic_data.head()"
   ]
  },
  {
   "source": [
    "Al ordenarlos nos damos cuenta que algo pasa al ordenar la columna, si observamos el tipo de datos que contiene la columna vemos que son de tipo > object por lo que debemos transformarlos a un tipo numérico"
   ],
   "cell_type": "markdown",
   "metadata": {}
  },
  {
   "cell_type": "code",
   "execution_count": null,
   "metadata": {},
   "outputs": [],
   "source": [
    "basic_data['bggrank'] = pd.to_numeric(basic_data['bggrank'], errors='coerce')\n",
    "\n",
    "basic_data.info()"
   ]
  },
  {
   "source": [
    "Vemos que solo hay 19.157 valores numéricos, esto es debido a que muchos de los juegos que aparecen en la lista son videojuegos y no corresponden con el rating de juegos de mesa por lo que tenemos que limpiar todas las filas que no pertenecen al sector de los juegos de mesa con el que queremos trabajar."
   ],
   "cell_type": "markdown",
   "metadata": {}
  },
  {
   "cell_type": "code",
   "execution_count": null,
   "metadata": {},
   "outputs": [],
   "source": [
    "basic_data = basic_data.dropna()\n",
    "basic_data = basic_data.sort_values(by=['bggrank'], ascending=True)\n",
    "basic_data.head()"
   ]
  },
  {
   "cell_type": "code",
   "execution_count": null,
   "metadata": {},
   "outputs": [],
   "source": [
    "basic_data.describe()"
   ]
  },
  {
   "source": [
    "Algunas definiciones para trabajar con datos más significativos... "
   ],
   "cell_type": "markdown",
   "metadata": {}
  },
  {
   "cell_type": "code",
   "execution_count": null,
   "metadata": {},
   "outputs": [],
   "source": [
    "most_popular = basic_data.loc[basic_data['bggrank']<5000]\n",
    "most_popular_rated = basic_data.loc[basic_data['usersrated']>1000]\n",
    "most_popular_rated.describe()"
   ]
  },
  {
   "source": [
    "Nos encontramos con el problema de muchos juegos con una sola valoración. Para que el sistema funcione como un recomendador de juegos populares debemos de omitir aquellos que no entran en el umbral de popularidad. Para ello debemos definir ese umbral de popularidad intentando apoyarnos en los datos estadísticos a partir de las distintas calificaciones y el número de votos dado por la columna \"usersrated\". O simplemente ajustarnos al bggrank"
   ],
   "cell_type": "markdown",
   "metadata": {}
  },
  {
   "cell_type": "code",
   "execution_count": null,
   "metadata": {},
   "outputs": [],
   "source": [
    "# import pandas as pd\n",
    "categories_data = pd.read_csv('data/categories_data.csv')\n",
    "categories_data.info()"
   ]
  },
  {
   "cell_type": "code",
   "execution_count": null,
   "metadata": {},
   "outputs": [],
   "source": [
    "most_popular_rated['bayes_rating'].nunique()"
   ]
  },
  {
   "cell_type": "code",
   "execution_count": null,
   "metadata": {},
   "outputs": [],
   "source": []
  }
 ]
}