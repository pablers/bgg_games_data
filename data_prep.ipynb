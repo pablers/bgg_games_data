{
 "metadata": {
  "language_info": {
   "codemirror_mode": {
    "name": "ipython",
    "version": 3
   },
   "file_extension": ".py",
   "mimetype": "text/x-python",
   "name": "python",
   "nbconvert_exporter": "python",
   "pygments_lexer": "ipython3",
   "version": "3.8.5-final"
  },
  "orig_nbformat": 2,
  "kernelspec": {
   "name": "python3",
   "display_name": "Python 3",
   "language": "python"
  }
 },
 "nbformat": 4,
 "nbformat_minor": 2,
 "cells": [
  {
   "source": [
    "##Empezando a trabajar con la información..."
   ],
   "cell_type": "markdown",
   "metadata": {}
  },
  {
   "cell_type": "code",
   "execution_count": 21,
   "metadata": {},
   "outputs": [
    {
     "output_type": "stream",
     "name": "stdout",
     "text": [
      "<class 'pandas.core.frame.DataFrame'>\nRangeIndex: 286186 entries, 0 to 286185\nData columns (total 22 columns):\n #   Column         Non-Null Count   Dtype  \n---  ------         --------------   -----  \n 0   name           286186 non-null  object \n 1   description    286186 non-null  object \n 2   thumbnail      0 non-null       float64\n 3   image          0 non-null       float64\n 4   rating         286186 non-null  float64\n 5   bayes_rating   286186 non-null  float64\n 6   usersrated     286186 non-null  int64  \n 7   bggrank        286186 non-null  object \n 8   stddev         286186 non-null  float64\n 9   owned          286186 non-null  int64  \n 10  trading        286186 non-null  int64  \n 11  wanting        286186 non-null  int64  \n 12  wishing        286186 non-null  int64  \n 13  numweights     286186 non-null  int64  \n 14  averageweight  286186 non-null  float64\n 15  yearpublished  118643 non-null  float64\n 16  minplayers     118643 non-null  float64\n 17  maxplayers     118643 non-null  float64\n 18  playingtime    118643 non-null  float64\n 19  minplaytime    118643 non-null  float64\n 20  maxplaytime    118643 non-null  float64\n 21  age            118643 non-null  float64\ndtypes: float64(13), int64(6), object(3)\nmemory usage: 48.0+ MB\n"
     ]
    }
   ],
   "source": [
    "import pandas as pd\n",
    "\n",
    "basic_data = pd.read_csv('data/basic_data.csv')\n",
    "basic_data.info()"
   ]
  },
  {
   "source": [
    "En primer lugar vamos a eliminar las columnas que no van a tener ninguna utilidad para nuestro proyecto. Y para tener una visualización más clara vamos a ordenar los juegos según su ranking que vienen dados en la columna 'bggrank'."
   ],
   "cell_type": "markdown",
   "metadata": {}
  },
  {
   "cell_type": "code",
   "execution_count": 23,
   "metadata": {},
   "outputs": [
    {
     "output_type": "error",
     "ename": "KeyError",
     "evalue": "\"['description' 'image' 'thumbnail'] not found in axis\"",
     "traceback": [
      "\u001b[1;31m---------------------------------------------------------------------------\u001b[0m",
      "\u001b[1;31mKeyError\u001b[0m                                  Traceback (most recent call last)",
      "\u001b[1;32m<ipython-input-23-9a754abed3a8>\u001b[0m in \u001b[0;36m<module>\u001b[1;34m\u001b[0m\n\u001b[1;32m----> 1\u001b[1;33m \u001b[0mbasic_data\u001b[0m \u001b[1;33m=\u001b[0m \u001b[0mbasic_data\u001b[0m\u001b[1;33m.\u001b[0m\u001b[0mdrop\u001b[0m\u001b[1;33m(\u001b[0m\u001b[0mcolumns\u001b[0m\u001b[1;33m=\u001b[0m\u001b[1;33m[\u001b[0m\u001b[1;34m'description'\u001b[0m\u001b[1;33m,\u001b[0m \u001b[1;34m'image'\u001b[0m\u001b[1;33m,\u001b[0m \u001b[1;34m'thumbnail'\u001b[0m\u001b[1;33m]\u001b[0m\u001b[1;33m)\u001b[0m\u001b[1;33m\u001b[0m\u001b[1;33m\u001b[0m\u001b[0m\n\u001b[0m\u001b[0;32m      2\u001b[0m \u001b[0mbasic_data\u001b[0m \u001b[1;33m=\u001b[0m \u001b[0mbasic_data\u001b[0m\u001b[1;33m.\u001b[0m\u001b[0msort_values\u001b[0m\u001b[1;33m(\u001b[0m\u001b[0mby\u001b[0m\u001b[1;33m=\u001b[0m\u001b[1;33m[\u001b[0m\u001b[1;34m'bggrank'\u001b[0m\u001b[1;33m]\u001b[0m\u001b[1;33m,\u001b[0m \u001b[0mascending\u001b[0m\u001b[1;33m=\u001b[0m\u001b[1;32mTrue\u001b[0m\u001b[1;33m)\u001b[0m\u001b[1;33m\u001b[0m\u001b[1;33m\u001b[0m\u001b[0m\n\u001b[0;32m      3\u001b[0m \u001b[0mbasic_data\u001b[0m\u001b[1;33m.\u001b[0m\u001b[0mhead\u001b[0m\u001b[1;33m(\u001b[0m\u001b[1;33m)\u001b[0m\u001b[1;33m\u001b[0m\u001b[1;33m\u001b[0m\u001b[0m\n",
      "\u001b[1;32m~\\miniconda3\\lib\\site-packages\\pandas\\core\\frame.py\u001b[0m in \u001b[0;36mdrop\u001b[1;34m(self, labels, axis, index, columns, level, inplace, errors)\u001b[0m\n\u001b[0;32m   4303\u001b[0m                 \u001b[0mweight\u001b[0m  \u001b[1;36m1.0\u001b[0m     \u001b[1;36m0.8\u001b[0m\u001b[1;33m\u001b[0m\u001b[1;33m\u001b[0m\u001b[0m\n\u001b[0;32m   4304\u001b[0m         \"\"\"\n\u001b[1;32m-> 4305\u001b[1;33m         return super().drop(\n\u001b[0m\u001b[0;32m   4306\u001b[0m             \u001b[0mlabels\u001b[0m\u001b[1;33m=\u001b[0m\u001b[0mlabels\u001b[0m\u001b[1;33m,\u001b[0m\u001b[1;33m\u001b[0m\u001b[1;33m\u001b[0m\u001b[0m\n\u001b[0;32m   4307\u001b[0m             \u001b[0maxis\u001b[0m\u001b[1;33m=\u001b[0m\u001b[0maxis\u001b[0m\u001b[1;33m,\u001b[0m\u001b[1;33m\u001b[0m\u001b[1;33m\u001b[0m\u001b[0m\n",
      "\u001b[1;32m~\\miniconda3\\lib\\site-packages\\pandas\\core\\generic.py\u001b[0m in \u001b[0;36mdrop\u001b[1;34m(self, labels, axis, index, columns, level, inplace, errors)\u001b[0m\n\u001b[0;32m   4150\u001b[0m         \u001b[1;32mfor\u001b[0m \u001b[0maxis\u001b[0m\u001b[1;33m,\u001b[0m \u001b[0mlabels\u001b[0m \u001b[1;32min\u001b[0m \u001b[0maxes\u001b[0m\u001b[1;33m.\u001b[0m\u001b[0mitems\u001b[0m\u001b[1;33m(\u001b[0m\u001b[1;33m)\u001b[0m\u001b[1;33m:\u001b[0m\u001b[1;33m\u001b[0m\u001b[1;33m\u001b[0m\u001b[0m\n\u001b[0;32m   4151\u001b[0m             \u001b[1;32mif\u001b[0m \u001b[0mlabels\u001b[0m \u001b[1;32mis\u001b[0m \u001b[1;32mnot\u001b[0m \u001b[1;32mNone\u001b[0m\u001b[1;33m:\u001b[0m\u001b[1;33m\u001b[0m\u001b[1;33m\u001b[0m\u001b[0m\n\u001b[1;32m-> 4152\u001b[1;33m                 \u001b[0mobj\u001b[0m \u001b[1;33m=\u001b[0m \u001b[0mobj\u001b[0m\u001b[1;33m.\u001b[0m\u001b[0m_drop_axis\u001b[0m\u001b[1;33m(\u001b[0m\u001b[0mlabels\u001b[0m\u001b[1;33m,\u001b[0m \u001b[0maxis\u001b[0m\u001b[1;33m,\u001b[0m \u001b[0mlevel\u001b[0m\u001b[1;33m=\u001b[0m\u001b[0mlevel\u001b[0m\u001b[1;33m,\u001b[0m \u001b[0merrors\u001b[0m\u001b[1;33m=\u001b[0m\u001b[0merrors\u001b[0m\u001b[1;33m)\u001b[0m\u001b[1;33m\u001b[0m\u001b[1;33m\u001b[0m\u001b[0m\n\u001b[0m\u001b[0;32m   4153\u001b[0m \u001b[1;33m\u001b[0m\u001b[0m\n\u001b[0;32m   4154\u001b[0m         \u001b[1;32mif\u001b[0m \u001b[0minplace\u001b[0m\u001b[1;33m:\u001b[0m\u001b[1;33m\u001b[0m\u001b[1;33m\u001b[0m\u001b[0m\n",
      "\u001b[1;32m~\\miniconda3\\lib\\site-packages\\pandas\\core\\generic.py\u001b[0m in \u001b[0;36m_drop_axis\u001b[1;34m(self, labels, axis, level, errors)\u001b[0m\n\u001b[0;32m   4185\u001b[0m                 \u001b[0mnew_axis\u001b[0m \u001b[1;33m=\u001b[0m \u001b[0maxis\u001b[0m\u001b[1;33m.\u001b[0m\u001b[0mdrop\u001b[0m\u001b[1;33m(\u001b[0m\u001b[0mlabels\u001b[0m\u001b[1;33m,\u001b[0m \u001b[0mlevel\u001b[0m\u001b[1;33m=\u001b[0m\u001b[0mlevel\u001b[0m\u001b[1;33m,\u001b[0m \u001b[0merrors\u001b[0m\u001b[1;33m=\u001b[0m\u001b[0merrors\u001b[0m\u001b[1;33m)\u001b[0m\u001b[1;33m\u001b[0m\u001b[1;33m\u001b[0m\u001b[0m\n\u001b[0;32m   4186\u001b[0m             \u001b[1;32melse\u001b[0m\u001b[1;33m:\u001b[0m\u001b[1;33m\u001b[0m\u001b[1;33m\u001b[0m\u001b[0m\n\u001b[1;32m-> 4187\u001b[1;33m                 \u001b[0mnew_axis\u001b[0m \u001b[1;33m=\u001b[0m \u001b[0maxis\u001b[0m\u001b[1;33m.\u001b[0m\u001b[0mdrop\u001b[0m\u001b[1;33m(\u001b[0m\u001b[0mlabels\u001b[0m\u001b[1;33m,\u001b[0m \u001b[0merrors\u001b[0m\u001b[1;33m=\u001b[0m\u001b[0merrors\u001b[0m\u001b[1;33m)\u001b[0m\u001b[1;33m\u001b[0m\u001b[1;33m\u001b[0m\u001b[0m\n\u001b[0m\u001b[0;32m   4188\u001b[0m             \u001b[0mresult\u001b[0m \u001b[1;33m=\u001b[0m \u001b[0mself\u001b[0m\u001b[1;33m.\u001b[0m\u001b[0mreindex\u001b[0m\u001b[1;33m(\u001b[0m\u001b[1;33m**\u001b[0m\u001b[1;33m{\u001b[0m\u001b[0maxis_name\u001b[0m\u001b[1;33m:\u001b[0m \u001b[0mnew_axis\u001b[0m\u001b[1;33m}\u001b[0m\u001b[1;33m)\u001b[0m\u001b[1;33m\u001b[0m\u001b[1;33m\u001b[0m\u001b[0m\n\u001b[0;32m   4189\u001b[0m \u001b[1;33m\u001b[0m\u001b[0m\n",
      "\u001b[1;32m~\\miniconda3\\lib\\site-packages\\pandas\\core\\indexes\\base.py\u001b[0m in \u001b[0;36mdrop\u001b[1;34m(self, labels, errors)\u001b[0m\n\u001b[0;32m   5589\u001b[0m         \u001b[1;32mif\u001b[0m \u001b[0mmask\u001b[0m\u001b[1;33m.\u001b[0m\u001b[0many\u001b[0m\u001b[1;33m(\u001b[0m\u001b[1;33m)\u001b[0m\u001b[1;33m:\u001b[0m\u001b[1;33m\u001b[0m\u001b[1;33m\u001b[0m\u001b[0m\n\u001b[0;32m   5590\u001b[0m             \u001b[1;32mif\u001b[0m \u001b[0merrors\u001b[0m \u001b[1;33m!=\u001b[0m \u001b[1;34m\"ignore\"\u001b[0m\u001b[1;33m:\u001b[0m\u001b[1;33m\u001b[0m\u001b[1;33m\u001b[0m\u001b[0m\n\u001b[1;32m-> 5591\u001b[1;33m                 \u001b[1;32mraise\u001b[0m \u001b[0mKeyError\u001b[0m\u001b[1;33m(\u001b[0m\u001b[1;34mf\"{labels[mask]} not found in axis\"\u001b[0m\u001b[1;33m)\u001b[0m\u001b[1;33m\u001b[0m\u001b[1;33m\u001b[0m\u001b[0m\n\u001b[0m\u001b[0;32m   5592\u001b[0m             \u001b[0mindexer\u001b[0m \u001b[1;33m=\u001b[0m \u001b[0mindexer\u001b[0m\u001b[1;33m[\u001b[0m\u001b[1;33m~\u001b[0m\u001b[0mmask\u001b[0m\u001b[1;33m]\u001b[0m\u001b[1;33m\u001b[0m\u001b[1;33m\u001b[0m\u001b[0m\n\u001b[0;32m   5593\u001b[0m         \u001b[1;32mreturn\u001b[0m \u001b[0mself\u001b[0m\u001b[1;33m.\u001b[0m\u001b[0mdelete\u001b[0m\u001b[1;33m(\u001b[0m\u001b[0mindexer\u001b[0m\u001b[1;33m)\u001b[0m\u001b[1;33m\u001b[0m\u001b[1;33m\u001b[0m\u001b[0m\n",
      "\u001b[1;31mKeyError\u001b[0m: \"['description' 'image' 'thumbnail'] not found in axis\""
     ]
    }
   ],
   "source": [
    "basic_data = basic_data.drop(columns=['description', 'image', 'thumbnail'])\n",
    "basic_data = basic_data.sort_values(by=['bggrank'], ascending=True)\n",
    "basic_data.head()"
   ]
  },
  {
   "source": [
    "Al ordenarlos nos damos cuenta que algo pasa al ordenar la columna, si observamos el tipo de datos que contiene la columna vemos que son de tipo > object por lo que debemos transformarlos a un tipo numérico"
   ],
   "cell_type": "markdown",
   "metadata": {}
  },
  {
   "cell_type": "code",
   "execution_count": 24,
   "metadata": {},
   "outputs": [
    {
     "output_type": "stream",
     "name": "stdout",
     "text": [
      "<class 'pandas.core.frame.DataFrame'>\nInt64Index: 286186 entries, 157611 to 286185\nData columns (total 19 columns):\n #   Column         Non-Null Count   Dtype  \n---  ------         --------------   -----  \n 0   name           286186 non-null  object \n 1   rating         286186 non-null  float64\n 2   bayes_rating   286186 non-null  float64\n 3   usersrated     286186 non-null  int64  \n 4   bggrank        19157 non-null   float64\n 5   stddev         286186 non-null  float64\n 6   owned          286186 non-null  int64  \n 7   trading        286186 non-null  int64  \n 8   wanting        286186 non-null  int64  \n 9   wishing        286186 non-null  int64  \n 10  numweights     286186 non-null  int64  \n 11  averageweight  286186 non-null  float64\n 12  yearpublished  118643 non-null  float64\n 13  minplayers     118643 non-null  float64\n 14  maxplayers     118643 non-null  float64\n 15  playingtime    118643 non-null  float64\n 16  minplaytime    118643 non-null  float64\n 17  maxplaytime    118643 non-null  float64\n 18  age            118643 non-null  float64\ndtypes: float64(12), int64(6), object(1)\nmemory usage: 43.7+ MB\n"
     ]
    }
   ],
   "source": [
    "basic_data['bggrank'] = pd.to_numeric(basic_data['bggrank'], errors='coerce')\n",
    "\n",
    "basic_data.info()"
   ]
  },
  {
   "source": [
    "Vemos que solo hay 19.157 valores numéricos, esto es debido a que muchos de los juegos que aparecen en la lista son videojuegos y no corresponden con el rating de juegos de mesa por lo que tenemos que limpiar todas las filas que no pertenecen al sector de los juegos de mesa con el que queremos trabajar."
   ],
   "cell_type": "markdown",
   "metadata": {}
  },
  {
   "cell_type": "code",
   "execution_count": 29,
   "metadata": {},
   "outputs": [
    {
     "output_type": "execute_result",
     "data": {
      "text/plain": [
       "              name   rating  bayes_rating  usersrated  bggrank   stddev  \\\n",
       "12           Catan  7.16442       7.00212       95414    376.0  1.47910   \n",
       "733    Carcassonne  7.41936       7.31268       95405    171.0  1.30454   \n",
       "28186     Pandemic  7.61716       7.52017       95286     89.0  1.32601   \n",
       "61613    7 Wonders  7.76195       7.66299       79128     50.0  1.27681   \n",
       "33485     Dominion  7.62886       7.52261       74484     87.0  1.42453   \n",
       "\n",
       "        owned  trading  wanting  wishing  numweights  averageweight  \\\n",
       "12     143040     1808      466     5273        7157         2.3278   \n",
       "733    138497     1575      536     6231        7268         1.9162   \n",
       "28186  143028     2172      647     8518        5202         2.4162   \n",
       "61613  105012     1374     1039    10780        4383         2.3320   \n",
       "33485   97017     1889      629     7551        4835         2.3590   \n",
       "\n",
       "       yearpublished  minplayers  maxplayers  playingtime  minplaytime  \\\n",
       "12            1995.0         3.0         4.0        120.0         60.0   \n",
       "733           2000.0         2.0         5.0         45.0         30.0   \n",
       "28186         2008.0         2.0         4.0         45.0         45.0   \n",
       "61613         2010.0         2.0         7.0         30.0         30.0   \n",
       "33485         2008.0         2.0         4.0         30.0         30.0   \n",
       "\n",
       "       maxplaytime   age  \n",
       "12           120.0  10.0  \n",
       "733           45.0   7.0  \n",
       "28186         45.0   8.0  \n",
       "61613         30.0  10.0  \n",
       "33485         30.0  13.0  "
      ],
      "text/html": "<div>\n<style scoped>\n    .dataframe tbody tr th:only-of-type {\n        vertical-align: middle;\n    }\n\n    .dataframe tbody tr th {\n        vertical-align: top;\n    }\n\n    .dataframe thead th {\n        text-align: right;\n    }\n</style>\n<table border=\"1\" class=\"dataframe\">\n  <thead>\n    <tr style=\"text-align: right;\">\n      <th></th>\n      <th>name</th>\n      <th>rating</th>\n      <th>bayes_rating</th>\n      <th>usersrated</th>\n      <th>bggrank</th>\n      <th>stddev</th>\n      <th>owned</th>\n      <th>trading</th>\n      <th>wanting</th>\n      <th>wishing</th>\n      <th>numweights</th>\n      <th>averageweight</th>\n      <th>yearpublished</th>\n      <th>minplayers</th>\n      <th>maxplayers</th>\n      <th>playingtime</th>\n      <th>minplaytime</th>\n      <th>maxplaytime</th>\n      <th>age</th>\n    </tr>\n  </thead>\n  <tbody>\n    <tr>\n      <th>12</th>\n      <td>Catan</td>\n      <td>7.16442</td>\n      <td>7.00212</td>\n      <td>95414</td>\n      <td>376.0</td>\n      <td>1.47910</td>\n      <td>143040</td>\n      <td>1808</td>\n      <td>466</td>\n      <td>5273</td>\n      <td>7157</td>\n      <td>2.3278</td>\n      <td>1995.0</td>\n      <td>3.0</td>\n      <td>4.0</td>\n      <td>120.0</td>\n      <td>60.0</td>\n      <td>120.0</td>\n      <td>10.0</td>\n    </tr>\n    <tr>\n      <th>733</th>\n      <td>Carcassonne</td>\n      <td>7.41936</td>\n      <td>7.31268</td>\n      <td>95405</td>\n      <td>171.0</td>\n      <td>1.30454</td>\n      <td>138497</td>\n      <td>1575</td>\n      <td>536</td>\n      <td>6231</td>\n      <td>7268</td>\n      <td>1.9162</td>\n      <td>2000.0</td>\n      <td>2.0</td>\n      <td>5.0</td>\n      <td>45.0</td>\n      <td>30.0</td>\n      <td>45.0</td>\n      <td>7.0</td>\n    </tr>\n    <tr>\n      <th>28186</th>\n      <td>Pandemic</td>\n      <td>7.61716</td>\n      <td>7.52017</td>\n      <td>95286</td>\n      <td>89.0</td>\n      <td>1.32601</td>\n      <td>143028</td>\n      <td>2172</td>\n      <td>647</td>\n      <td>8518</td>\n      <td>5202</td>\n      <td>2.4162</td>\n      <td>2008.0</td>\n      <td>2.0</td>\n      <td>4.0</td>\n      <td>45.0</td>\n      <td>45.0</td>\n      <td>45.0</td>\n      <td>8.0</td>\n    </tr>\n    <tr>\n      <th>61613</th>\n      <td>7 Wonders</td>\n      <td>7.76195</td>\n      <td>7.66299</td>\n      <td>79128</td>\n      <td>50.0</td>\n      <td>1.27681</td>\n      <td>105012</td>\n      <td>1374</td>\n      <td>1039</td>\n      <td>10780</td>\n      <td>4383</td>\n      <td>2.3320</td>\n      <td>2010.0</td>\n      <td>2.0</td>\n      <td>7.0</td>\n      <td>30.0</td>\n      <td>30.0</td>\n      <td>30.0</td>\n      <td>10.0</td>\n    </tr>\n    <tr>\n      <th>33485</th>\n      <td>Dominion</td>\n      <td>7.62886</td>\n      <td>7.52261</td>\n      <td>74484</td>\n      <td>87.0</td>\n      <td>1.42453</td>\n      <td>97017</td>\n      <td>1889</td>\n      <td>629</td>\n      <td>7551</td>\n      <td>4835</td>\n      <td>2.3590</td>\n      <td>2008.0</td>\n      <td>2.0</td>\n      <td>4.0</td>\n      <td>30.0</td>\n      <td>30.0</td>\n      <td>30.0</td>\n      <td>13.0</td>\n    </tr>\n  </tbody>\n</table>\n</div>"
     },
     "metadata": {},
     "execution_count": 29
    }
   ],
   "source": [
    "basic_data = basic_data.dropna()\n",
    "basic_data = basic_data.sort_values(by=['bggrank'], ascending=True)\n",
    "basic_data.head()"
   ]
  },
  {
   "cell_type": "code",
   "execution_count": 30,
   "metadata": {},
   "outputs": [
    {
     "output_type": "execute_result",
     "data": {
      "text/plain": [
       "             rating  bayes_rating    usersrated       bggrank        stddev  \\\n",
       "count  19157.000000  19157.000000  19157.000000  19157.000000  19157.000000   \n",
       "mean       6.390466      5.689698    816.256147   9578.346349      1.513383   \n",
       "std        0.928579      0.370335   3350.609921   5530.075618      0.285428   \n",
       "min        1.047690      3.536330     30.000000      1.000000      0.209841   \n",
       "25%        5.805560      5.510910     55.000000   4790.000000      1.318340   \n",
       "50%        6.418380      5.550290    119.000000   9576.000000      1.474140   \n",
       "75%        7.008010      5.688290    379.000000  14368.000000      1.658470   \n",
       "max        9.687500      8.571370  95414.000000  19156.000000      4.262730   \n",
       "\n",
       "               owned       trading       wanting       wishing    numweights  \\\n",
       "count   19157.000000  19157.000000  19157.000000  19157.000000  19157.000000   \n",
       "mean     1351.861147     43.593882     42.432844    210.251918     51.214908   \n",
       "std      4751.308507     99.174142    119.997332    704.263879    206.501375   \n",
       "min         2.000000      0.000000      0.000000      0.000000      0.000000   \n",
       "25%       144.000000      5.000000      3.000000     13.000000      4.000000   \n",
       "50%       306.000000     14.000000      9.000000     36.000000     10.000000   \n",
       "75%       837.000000     39.000000     28.000000    120.000000     27.000000   \n",
       "max    143040.000000   2382.000000   2084.000000  16040.000000   7268.000000   \n",
       "\n",
       "       averageweight  yearpublished    minplayers    maxplayers  \\\n",
       "count   19157.000000   19157.000000  19157.000000  19157.000000   \n",
       "mean        1.996056    1984.582137      2.029023      5.613718   \n",
       "std         0.848621     208.697349      0.683680     15.385588   \n",
       "min         0.000000   -3500.000000      0.000000      0.000000   \n",
       "25%         1.333300    2000.000000      2.000000      4.000000   \n",
       "50%         1.979200    2010.000000      2.000000      4.000000   \n",
       "75%         2.555600    2016.000000      2.000000      6.000000   \n",
       "max         5.000000    2021.000000     10.000000    999.000000   \n",
       "\n",
       "         playingtime   minplaytime    maxplaytime           age  \n",
       "count   19157.000000  19157.000000   19157.000000  19157.000000  \n",
       "mean       96.542569     66.853631      96.332620      9.597484  \n",
       "std      1027.132193    474.499883    1027.145037      3.632189  \n",
       "min         0.000000      0.000000       0.000000      0.000000  \n",
       "25%        30.000000     20.000000      30.000000      8.000000  \n",
       "50%        45.000000     30.000000      45.000000     10.000000  \n",
       "75%        90.000000     60.000000      90.000000     12.000000  \n",
       "max    120000.000000  60000.000000  120000.000000     25.000000  "
      ],
      "text/html": "<div>\n<style scoped>\n    .dataframe tbody tr th:only-of-type {\n        vertical-align: middle;\n    }\n\n    .dataframe tbody tr th {\n        vertical-align: top;\n    }\n\n    .dataframe thead th {\n        text-align: right;\n    }\n</style>\n<table border=\"1\" class=\"dataframe\">\n  <thead>\n    <tr style=\"text-align: right;\">\n      <th></th>\n      <th>rating</th>\n      <th>bayes_rating</th>\n      <th>usersrated</th>\n      <th>bggrank</th>\n      <th>stddev</th>\n      <th>owned</th>\n      <th>trading</th>\n      <th>wanting</th>\n      <th>wishing</th>\n      <th>numweights</th>\n      <th>averageweight</th>\n      <th>yearpublished</th>\n      <th>minplayers</th>\n      <th>maxplayers</th>\n      <th>playingtime</th>\n      <th>minplaytime</th>\n      <th>maxplaytime</th>\n      <th>age</th>\n    </tr>\n  </thead>\n  <tbody>\n    <tr>\n      <th>count</th>\n      <td>19157.000000</td>\n      <td>19157.000000</td>\n      <td>19157.000000</td>\n      <td>19157.000000</td>\n      <td>19157.000000</td>\n      <td>19157.000000</td>\n      <td>19157.000000</td>\n      <td>19157.000000</td>\n      <td>19157.000000</td>\n      <td>19157.000000</td>\n      <td>19157.000000</td>\n      <td>19157.000000</td>\n      <td>19157.000000</td>\n      <td>19157.000000</td>\n      <td>19157.000000</td>\n      <td>19157.000000</td>\n      <td>19157.000000</td>\n      <td>19157.000000</td>\n    </tr>\n    <tr>\n      <th>mean</th>\n      <td>6.390466</td>\n      <td>5.689698</td>\n      <td>816.256147</td>\n      <td>9578.346349</td>\n      <td>1.513383</td>\n      <td>1351.861147</td>\n      <td>43.593882</td>\n      <td>42.432844</td>\n      <td>210.251918</td>\n      <td>51.214908</td>\n      <td>1.996056</td>\n      <td>1984.582137</td>\n      <td>2.029023</td>\n      <td>5.613718</td>\n      <td>96.542569</td>\n      <td>66.853631</td>\n      <td>96.332620</td>\n      <td>9.597484</td>\n    </tr>\n    <tr>\n      <th>std</th>\n      <td>0.928579</td>\n      <td>0.370335</td>\n      <td>3350.609921</td>\n      <td>5530.075618</td>\n      <td>0.285428</td>\n      <td>4751.308507</td>\n      <td>99.174142</td>\n      <td>119.997332</td>\n      <td>704.263879</td>\n      <td>206.501375</td>\n      <td>0.848621</td>\n      <td>208.697349</td>\n      <td>0.683680</td>\n      <td>15.385588</td>\n      <td>1027.132193</td>\n      <td>474.499883</td>\n      <td>1027.145037</td>\n      <td>3.632189</td>\n    </tr>\n    <tr>\n      <th>min</th>\n      <td>1.047690</td>\n      <td>3.536330</td>\n      <td>30.000000</td>\n      <td>1.000000</td>\n      <td>0.209841</td>\n      <td>2.000000</td>\n      <td>0.000000</td>\n      <td>0.000000</td>\n      <td>0.000000</td>\n      <td>0.000000</td>\n      <td>0.000000</td>\n      <td>-3500.000000</td>\n      <td>0.000000</td>\n      <td>0.000000</td>\n      <td>0.000000</td>\n      <td>0.000000</td>\n      <td>0.000000</td>\n      <td>0.000000</td>\n    </tr>\n    <tr>\n      <th>25%</th>\n      <td>5.805560</td>\n      <td>5.510910</td>\n      <td>55.000000</td>\n      <td>4790.000000</td>\n      <td>1.318340</td>\n      <td>144.000000</td>\n      <td>5.000000</td>\n      <td>3.000000</td>\n      <td>13.000000</td>\n      <td>4.000000</td>\n      <td>1.333300</td>\n      <td>2000.000000</td>\n      <td>2.000000</td>\n      <td>4.000000</td>\n      <td>30.000000</td>\n      <td>20.000000</td>\n      <td>30.000000</td>\n      <td>8.000000</td>\n    </tr>\n    <tr>\n      <th>50%</th>\n      <td>6.418380</td>\n      <td>5.550290</td>\n      <td>119.000000</td>\n      <td>9576.000000</td>\n      <td>1.474140</td>\n      <td>306.000000</td>\n      <td>14.000000</td>\n      <td>9.000000</td>\n      <td>36.000000</td>\n      <td>10.000000</td>\n      <td>1.979200</td>\n      <td>2010.000000</td>\n      <td>2.000000</td>\n      <td>4.000000</td>\n      <td>45.000000</td>\n      <td>30.000000</td>\n      <td>45.000000</td>\n      <td>10.000000</td>\n    </tr>\n    <tr>\n      <th>75%</th>\n      <td>7.008010</td>\n      <td>5.688290</td>\n      <td>379.000000</td>\n      <td>14368.000000</td>\n      <td>1.658470</td>\n      <td>837.000000</td>\n      <td>39.000000</td>\n      <td>28.000000</td>\n      <td>120.000000</td>\n      <td>27.000000</td>\n      <td>2.555600</td>\n      <td>2016.000000</td>\n      <td>2.000000</td>\n      <td>6.000000</td>\n      <td>90.000000</td>\n      <td>60.000000</td>\n      <td>90.000000</td>\n      <td>12.000000</td>\n    </tr>\n    <tr>\n      <th>max</th>\n      <td>9.687500</td>\n      <td>8.571370</td>\n      <td>95414.000000</td>\n      <td>19156.000000</td>\n      <td>4.262730</td>\n      <td>143040.000000</td>\n      <td>2382.000000</td>\n      <td>2084.000000</td>\n      <td>16040.000000</td>\n      <td>7268.000000</td>\n      <td>5.000000</td>\n      <td>2021.000000</td>\n      <td>10.000000</td>\n      <td>999.000000</td>\n      <td>120000.000000</td>\n      <td>60000.000000</td>\n      <td>120000.000000</td>\n      <td>25.000000</td>\n    </tr>\n  </tbody>\n</table>\n</div>"
     },
     "metadata": {},
     "execution_count": 30
    }
   ],
   "source": [
    "basic_data.describe()"
   ]
  },
  {
   "cell_type": "code",
   "execution_count": 41,
   "metadata": {},
   "outputs": [
    {
     "output_type": "execute_result",
     "data": {
      "text/plain": [
       "            rating  bayes_rating    usersrated       bggrank       stddev  \\\n",
       "count  2460.000000   2460.000000   2460.000000   2460.000000  2460.000000   \n",
       "mean      6.927629      6.419947   5129.079268   2099.720325     1.378141   \n",
       "std       0.693854      0.569777   8113.770424   3443.908417     0.184391   \n",
       "min       2.271810      3.536330   1001.000000      1.000000     1.021220   \n",
       "25%       6.551895      6.054003   1464.000000    615.750000     1.238815   \n",
       "50%       6.967215      6.360015   2369.000000   1246.500000     1.344125   \n",
       "75%       7.367572      6.771248   4990.000000   2100.750000     1.488580   \n",
       "max       8.885510      8.571370  95414.000000  19156.000000     2.945170   \n",
       "\n",
       "               owned      trading      wanting       wishing   numweights  \\\n",
       "count    2460.000000  2460.000000  2460.000000   2460.000000  2460.000000   \n",
       "mean     7685.871951   201.364634   220.891870   1171.735366   301.163415   \n",
       "std     11335.795226   207.498312   265.513056   1641.767831   508.184278   \n",
       "min       400.000000     0.000000     0.000000      6.000000     3.000000   \n",
       "25%      2562.000000    86.000000    56.000000    271.750000    82.000000   \n",
       "50%      3987.500000   144.000000   129.000000    598.500000   151.000000   \n",
       "75%      7711.750000   238.000000   276.250000   1368.500000   306.000000   \n",
       "max    143040.000000  2382.000000  2084.000000  16040.000000  7268.000000   \n",
       "\n",
       "       averageweight  yearpublished   minplayers   maxplayers   playingtime  \\\n",
       "count    2460.000000    2460.000000  2460.000000  2460.000000   2460.000000   \n",
       "mean        2.271949    1993.225203     2.006098     5.397154     82.242276   \n",
       "std         0.791027     194.296765     0.683539     6.967448    279.241255   \n",
       "min         1.000000   -3000.000000     1.000000     1.000000      1.000000   \n",
       "25%         1.672125    2004.000000     2.000000     4.000000     30.000000   \n",
       "50%         2.208550    2011.000000     2.000000     4.500000     60.000000   \n",
       "75%         2.783175    2015.000000     2.000000     6.000000     90.000000   \n",
       "max         4.726700    2020.000000     8.000000   100.000000  12000.000000   \n",
       "\n",
       "       minplaytime   maxplaytime          age  \n",
       "count  2460.000000   2460.000000  2460.000000  \n",
       "mean     57.911382     82.242276    10.705285  \n",
       "std      63.281836    279.241255     2.535421  \n",
       "min       1.000000      1.000000     0.000000  \n",
       "25%      30.000000     30.000000     8.000000  \n",
       "50%      45.000000     60.000000    10.000000  \n",
       "75%      60.000000     90.000000    12.000000  \n",
       "max    1440.000000  12000.000000    18.000000  "
      ],
      "text/html": "<div>\n<style scoped>\n    .dataframe tbody tr th:only-of-type {\n        vertical-align: middle;\n    }\n\n    .dataframe tbody tr th {\n        vertical-align: top;\n    }\n\n    .dataframe thead th {\n        text-align: right;\n    }\n</style>\n<table border=\"1\" class=\"dataframe\">\n  <thead>\n    <tr style=\"text-align: right;\">\n      <th></th>\n      <th>rating</th>\n      <th>bayes_rating</th>\n      <th>usersrated</th>\n      <th>bggrank</th>\n      <th>stddev</th>\n      <th>owned</th>\n      <th>trading</th>\n      <th>wanting</th>\n      <th>wishing</th>\n      <th>numweights</th>\n      <th>averageweight</th>\n      <th>yearpublished</th>\n      <th>minplayers</th>\n      <th>maxplayers</th>\n      <th>playingtime</th>\n      <th>minplaytime</th>\n      <th>maxplaytime</th>\n      <th>age</th>\n    </tr>\n  </thead>\n  <tbody>\n    <tr>\n      <th>count</th>\n      <td>2460.000000</td>\n      <td>2460.000000</td>\n      <td>2460.000000</td>\n      <td>2460.000000</td>\n      <td>2460.000000</td>\n      <td>2460.000000</td>\n      <td>2460.000000</td>\n      <td>2460.000000</td>\n      <td>2460.000000</td>\n      <td>2460.000000</td>\n      <td>2460.000000</td>\n      <td>2460.000000</td>\n      <td>2460.000000</td>\n      <td>2460.000000</td>\n      <td>2460.000000</td>\n      <td>2460.000000</td>\n      <td>2460.000000</td>\n      <td>2460.000000</td>\n    </tr>\n    <tr>\n      <th>mean</th>\n      <td>6.927629</td>\n      <td>6.419947</td>\n      <td>5129.079268</td>\n      <td>2099.720325</td>\n      <td>1.378141</td>\n      <td>7685.871951</td>\n      <td>201.364634</td>\n      <td>220.891870</td>\n      <td>1171.735366</td>\n      <td>301.163415</td>\n      <td>2.271949</td>\n      <td>1993.225203</td>\n      <td>2.006098</td>\n      <td>5.397154</td>\n      <td>82.242276</td>\n      <td>57.911382</td>\n      <td>82.242276</td>\n      <td>10.705285</td>\n    </tr>\n    <tr>\n      <th>std</th>\n      <td>0.693854</td>\n      <td>0.569777</td>\n      <td>8113.770424</td>\n      <td>3443.908417</td>\n      <td>0.184391</td>\n      <td>11335.795226</td>\n      <td>207.498312</td>\n      <td>265.513056</td>\n      <td>1641.767831</td>\n      <td>508.184278</td>\n      <td>0.791027</td>\n      <td>194.296765</td>\n      <td>0.683539</td>\n      <td>6.967448</td>\n      <td>279.241255</td>\n      <td>63.281836</td>\n      <td>279.241255</td>\n      <td>2.535421</td>\n    </tr>\n    <tr>\n      <th>min</th>\n      <td>2.271810</td>\n      <td>3.536330</td>\n      <td>1001.000000</td>\n      <td>1.000000</td>\n      <td>1.021220</td>\n      <td>400.000000</td>\n      <td>0.000000</td>\n      <td>0.000000</td>\n      <td>6.000000</td>\n      <td>3.000000</td>\n      <td>1.000000</td>\n      <td>-3000.000000</td>\n      <td>1.000000</td>\n      <td>1.000000</td>\n      <td>1.000000</td>\n      <td>1.000000</td>\n      <td>1.000000</td>\n      <td>0.000000</td>\n    </tr>\n    <tr>\n      <th>25%</th>\n      <td>6.551895</td>\n      <td>6.054003</td>\n      <td>1464.000000</td>\n      <td>615.750000</td>\n      <td>1.238815</td>\n      <td>2562.000000</td>\n      <td>86.000000</td>\n      <td>56.000000</td>\n      <td>271.750000</td>\n      <td>82.000000</td>\n      <td>1.672125</td>\n      <td>2004.000000</td>\n      <td>2.000000</td>\n      <td>4.000000</td>\n      <td>30.000000</td>\n      <td>30.000000</td>\n      <td>30.000000</td>\n      <td>8.000000</td>\n    </tr>\n    <tr>\n      <th>50%</th>\n      <td>6.967215</td>\n      <td>6.360015</td>\n      <td>2369.000000</td>\n      <td>1246.500000</td>\n      <td>1.344125</td>\n      <td>3987.500000</td>\n      <td>144.000000</td>\n      <td>129.000000</td>\n      <td>598.500000</td>\n      <td>151.000000</td>\n      <td>2.208550</td>\n      <td>2011.000000</td>\n      <td>2.000000</td>\n      <td>4.500000</td>\n      <td>60.000000</td>\n      <td>45.000000</td>\n      <td>60.000000</td>\n      <td>10.000000</td>\n    </tr>\n    <tr>\n      <th>75%</th>\n      <td>7.367572</td>\n      <td>6.771248</td>\n      <td>4990.000000</td>\n      <td>2100.750000</td>\n      <td>1.488580</td>\n      <td>7711.750000</td>\n      <td>238.000000</td>\n      <td>276.250000</td>\n      <td>1368.500000</td>\n      <td>306.000000</td>\n      <td>2.783175</td>\n      <td>2015.000000</td>\n      <td>2.000000</td>\n      <td>6.000000</td>\n      <td>90.000000</td>\n      <td>60.000000</td>\n      <td>90.000000</td>\n      <td>12.000000</td>\n    </tr>\n    <tr>\n      <th>max</th>\n      <td>8.885510</td>\n      <td>8.571370</td>\n      <td>95414.000000</td>\n      <td>19156.000000</td>\n      <td>2.945170</td>\n      <td>143040.000000</td>\n      <td>2382.000000</td>\n      <td>2084.000000</td>\n      <td>16040.000000</td>\n      <td>7268.000000</td>\n      <td>4.726700</td>\n      <td>2020.000000</td>\n      <td>8.000000</td>\n      <td>100.000000</td>\n      <td>12000.000000</td>\n      <td>1440.000000</td>\n      <td>12000.000000</td>\n      <td>18.000000</td>\n    </tr>\n  </tbody>\n</table>\n</div>"
     },
     "metadata": {},
     "execution_count": 41
    }
   ],
   "source": [
    "most_popular = basic_data.loc[basic_data['bggrank']<5000]\n",
    "most_popular_voted = basic_data.loc[basic_data['usersrated']>1000]\n",
    "most_popular_voted.describe()"
   ]
  },
  {
   "source": [
    "Nos encontramos con el problema de muchos juegos con una sola valoración. Para que el sistema funcione como un recomendador de juegos populares debemos de omitir aquellos que no entran en el umbral de popularidad. Para ello debemos definir ese umbral de popularidad intentando apoyarnos en los datos estadísticos a partir de las distintas calificaciones y el número de votos dado por la columna \"usersrated\". O simplemente ajustarnos al bggrank"
   ],
   "cell_type": "markdown",
   "metadata": {}
  }
 ]
}