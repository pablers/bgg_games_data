{
 "metadata": {
  "language_info": {
   "codemirror_mode": {
    "name": "ipython",
    "version": 3
   },
   "file_extension": ".py",
   "mimetype": "text/x-python",
   "name": "python",
   "nbconvert_exporter": "python",
   "pygments_lexer": "ipython3",
   "version": "3.8.5-final"
  },
  "orig_nbformat": 2,
  "kernelspec": {
   "name": "python3",
   "display_name": "Python 3",
   "language": "python"
  }
 },
 "nbformat": 4,
 "nbformat_minor": 2,
 "cells": [
  {
   "source": [
    "Para poder empezar a trabajar con ellos vamos a unir los 4 ficheros en uno. \n",
    "\n",
    "Previamente hemos visto que \"basic_data.csv\" contiene 271,222 filas mientras que \"categories_data.csv\", \"mechanics_data.csv\" y \"subdomain_data.csv\" solo tienen 40.333 filas. Después de analizar la columna que comparten todos \"bayes_rating\" se descubre que en \"basic_data\" se les ha asignado un valor de 0 en la columna \"bayes_rating\" por lo que la solución es limpiar esos valores.  "
   ],
   "cell_type": "markdown",
   "metadata": {}
  },
  {
   "cell_type": "code",
   "execution_count": 2,
   "metadata": {},
   "outputs": [
    {
     "output_type": "stream",
     "name": "stdout",
     "text": [
      "<class 'pandas.core.frame.DataFrame'>\nInt64Index: 161336 entries, 0 to 40333\nColumns: 293 entries, name to Children's Games\ndtypes: float64(290), object(3)\nmemory usage: 361.9+ MB\n"
     ]
    }
   ],
   "source": [
    "import pandas as pd\n",
    "\n",
    "# Lectura de ficheros\n",
    "basic_data = pd.read_csv('data/basic_data.csv')\n",
    "categories_data = pd.read_csv('data/categories_data.csv')\n",
    "mechanics_data = pd.read_csv('data/mechanics_data.csv')\n",
    "subdomain_data = pd.read_csv('data/subdomain_data.csv')\n",
    "\n",
    "# Elimnar filas que tienen valor 0 en la columna \"bayes_rating\"\n",
    "basic_data = basic_data[basic_data['bayes_rating'] != 0]\n",
    "\n",
    "# Combinar los 4 ficheros. Usamos la función concat porque vienen ordenados, tienen el mismo tamaño de filas y no tenemos una clave común única\n",
    "full_data = pd.concat([basic_data, categories_data, mechanics_data, subdomain_data])\n",
    "full_data.info()\n"
   ]
  },
  {
   "cell_type": "code",
   "execution_count": 3,
   "metadata": {},
   "outputs": [
    {
     "output_type": "stream",
     "name": "stdout",
     "text": [
      "Stored 'full_data_bgg' (DataFrame)\n<class 'pandas.core.frame.DataFrame'>\nInt64Index: 19157 entries, 0 to 282390\nColumns: 293 entries, name to Children's Games\ndtypes: float64(291), object(2)\nmemory usage: 43.0+ MB\n"
     ]
    }
   ],
   "source": [
    "# Convertir a numérico el bggrank y limpieza de datos NaN\n",
    "full_data['bggrank'] = pd.to_numeric(full_data['bggrank'], errors='coerce')\n",
    "full_data_bgg = full_data.dropna(subset=['bggrank'])\n",
    "full_data_bgg.describe()\n",
    "\n",
    "%store full_data_bgg\n",
    "full_data_bgg.info()"
   ]
  },
  {
   "cell_type": "code",
   "execution_count": null,
   "metadata": {},
   "outputs": [],
   "source": [
    "#### "
   ]
  },
  {
   "cell_type": "code",
   "execution_count": null,
   "metadata": {},
   "outputs": [],
   "source": []
  },
  {
   "cell_type": "code",
   "execution_count": null,
   "metadata": {},
   "outputs": [],
   "source": []
  },
  {
   "cell_type": "code",
   "execution_count": null,
   "metadata": {},
   "outputs": [],
   "source": []
  },
  {
   "cell_type": "code",
   "execution_count": null,
   "metadata": {},
   "outputs": [],
   "source": []
  }
 ]
}