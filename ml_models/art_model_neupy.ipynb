{
 "metadata": {
  "language_info": {
   "codemirror_mode": {
    "name": "ipython",
    "version": 3
   },
   "file_extension": ".py",
   "mimetype": "text/x-python",
   "name": "python",
   "nbconvert_exporter": "python",
   "pygments_lexer": "ipython3",
   "version": "3.8.5-final"
  },
  "orig_nbformat": 2,
  "kernelspec": {
   "name": "python3",
   "display_name": "Python 3",
   "language": "python"
  }
 },
 "nbformat": 4,
 "nbformat_minor": 2,
 "cells": [
  {
   "cell_type": "code",
   "execution_count": 16,
   "metadata": {},
   "outputs": [],
   "source": [
    "import pandas as pd\n",
    "import numpy as np\n",
    "from neupy import algorithms\n",
    "\n",
    "## ... CLASIFICACIÓN POR GRUPOS MEDIANTE ART ... \n",
    "\n",
    "# Carga y preparación de los datos \n",
    "categories_data = pd.read_csv('../data/categories_data.csv')\n",
    "mechanics_data = pd.read_csv('../data/mechanics_data.csv')\n",
    "subdomain_data = pd.read_csv('../data/subdomain_data.csv')\n",
    "\n",
    "categories_data = categories_data.drop(columns='bayes_rating')\n",
    "mechanics_data = mechanics_data.drop(columns=['bayes_rating', 'rating'])\n",
    "subdomain_data = subdomain_data.drop(columns='bayes_rating')\n",
    "\n",
    "\n",
    "# Creamos una variable para cada uno de los modelos de predicción\n",
    "artnet_cat = algorithms.ART1(\n",
    "    step=2,\n",
    "    rho=0.5,\n",
    "    n_clusters=8,\n",
    "    verbose=False\n",
    ")\n",
    "artnet_mec = algorithms.ART1(\n",
    "    step=2,\n",
    "    rho=0.5,\n",
    "    n_clusters=8,\n",
    "    verbose=False\n",
    ")\n",
    "artnet_sub = algorithms.ART1(\n",
    "    step=2,\n",
    "    rho=0.5,\n",
    "    n_clusters=8,\n",
    "    verbose=False\n",
    ")\n",
    "\n",
    "\n",
    "# Clasificación utilizando ART\n",
    "categories_clustering = artnet_cat.predict(categories_data)\n",
    "mechanics_clustering = artnet_mec.predict(mechanics_data)\n",
    "subdomain_clustering = artnet_sub.predict(subdomain_data)\n",
    "\n",
    "# Añadimos el nuevo vector y creamos un documento independiente por cada clasificación\n",
    "categories_data['grouped_categories'] = categories_clustering.tolist()\n",
    "mechanics_data['grouped_mechanics'] = mechanics_clustering.tolist()\n",
    "subdomain_data['grouped_subdomain'] = subdomain_clustering.tolist()\n",
    "\n",
    "categories_data.to_csv('../data/grouped_categories.csv')\n",
    "mechanics_data.to_csv('../data/grouped_mechanics.csv')\n",
    "subdomain_data.to_csv('../data/grouped_subdomain.csv')\n",
    "\n",
    "## ... VISUALIZACIÓN DE LOS DATOS OBTENIDOS ...\n",
    "\n",
    "#"
   ]
  }
 ]
}