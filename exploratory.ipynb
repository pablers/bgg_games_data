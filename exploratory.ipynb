{
 "metadata": {
  "language_info": {
   "codemirror_mode": {
    "name": "ipython",
    "version": 3
   },
   "file_extension": ".py",
   "mimetype": "text/x-python",
   "name": "python",
   "nbconvert_exporter": "python",
   "pygments_lexer": "ipython3",
   "version": "3.8.5-final"
  },
  "orig_nbformat": 2,
  "kernelspec": {
   "name": "python3",
   "display_name": "Python 3",
   "language": "python"
  }
 },
 "nbformat": 4,
 "nbformat_minor": 2,
 "cells": [
  {
   "source": [
    "A continuación se muestra la información que ofrece cada uno de los archivos de manera resumida"
   ],
   "cell_type": "markdown",
   "metadata": {}
  },
  {
   "cell_type": "code",
   "execution_count": 1,
   "metadata": {},
   "outputs": [
    {
     "output_type": "execute_result",
     "data": {
      "text/plain": [
       "         name                                        description  thumbnail  \\\n",
       "0  Die Macher  Die Macher is a game about seven sequential po...        NaN   \n",
       "\n",
       "   image   rating  bayes_rating  usersrated bggrank   stddev  owned  ...  \\\n",
       "0    NaN  7.62855        7.1473        5054     262  1.58914   6855  ...   \n",
       "\n",
       "   wishing  numweights  averageweight  yearpublished  minplayers  maxplayers  \\\n",
       "0     1960         750         4.3347         1986.0         3.0         5.0   \n",
       "\n",
       "   playingtime  minplaytime  maxplaytime   age  \n",
       "0        240.0        240.0        240.0  14.0  \n",
       "\n",
       "[1 rows x 22 columns]"
      ],
      "text/html": "<div>\n<style scoped>\n    .dataframe tbody tr th:only-of-type {\n        vertical-align: middle;\n    }\n\n    .dataframe tbody tr th {\n        vertical-align: top;\n    }\n\n    .dataframe thead th {\n        text-align: right;\n    }\n</style>\n<table border=\"1\" class=\"dataframe\">\n  <thead>\n    <tr style=\"text-align: right;\">\n      <th></th>\n      <th>name</th>\n      <th>description</th>\n      <th>thumbnail</th>\n      <th>image</th>\n      <th>rating</th>\n      <th>bayes_rating</th>\n      <th>usersrated</th>\n      <th>bggrank</th>\n      <th>stddev</th>\n      <th>owned</th>\n      <th>...</th>\n      <th>wishing</th>\n      <th>numweights</th>\n      <th>averageweight</th>\n      <th>yearpublished</th>\n      <th>minplayers</th>\n      <th>maxplayers</th>\n      <th>playingtime</th>\n      <th>minplaytime</th>\n      <th>maxplaytime</th>\n      <th>age</th>\n    </tr>\n  </thead>\n  <tbody>\n    <tr>\n      <th>0</th>\n      <td>Die Macher</td>\n      <td>Die Macher is a game about seven sequential po...</td>\n      <td>NaN</td>\n      <td>NaN</td>\n      <td>7.62855</td>\n      <td>7.1473</td>\n      <td>5054</td>\n      <td>262</td>\n      <td>1.58914</td>\n      <td>6855</td>\n      <td>...</td>\n      <td>1960</td>\n      <td>750</td>\n      <td>4.3347</td>\n      <td>1986.0</td>\n      <td>3.0</td>\n      <td>5.0</td>\n      <td>240.0</td>\n      <td>240.0</td>\n      <td>240.0</td>\n      <td>14.0</td>\n    </tr>\n  </tbody>\n</table>\n<p>1 rows × 22 columns</p>\n</div>"
     },
     "metadata": {},
     "execution_count": 1
    }
   ],
   "source": [
    "import pandas as pd\n",
    "\n",
    "\n",
    "\n",
    "basic_data.head(1)"
   ]
  },
  {
   "cell_type": "code",
   "execution_count": null,
   "metadata": {},
   "outputs": [],
   "source": [
    "categories_data = pd.read_csv('data/categories_data.csv')\n",
    "\n",
    "categories_data.head(1)"
   ]
  },
  {
   "cell_type": "code",
   "execution_count": null,
   "metadata": {},
   "outputs": [],
   "source": [
    "mechanics_data = pd.read_csv('data/mechanics_data.csv')\n",
    "\n",
    "mechanics_data.head(1)"
   ]
  },
  {
   "cell_type": "code",
   "execution_count": null,
   "metadata": {},
   "outputs": [],
   "source": [
    "subdomain_data = pd.read_csv('data/subdomain_data.csv')\n",
    "\n",
    "subdomain_data.head(1)"
   ]
  }
 ]
}