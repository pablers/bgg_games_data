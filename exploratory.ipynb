{
 "metadata": {
  "language_info": {
   "codemirror_mode": {
    "name": "ipython",
    "version": 3
   },
   "file_extension": ".py",
   "mimetype": "text/x-python",
   "name": "python",
   "nbconvert_exporter": "python",
   "pygments_lexer": "ipython3",
   "version": "3.8.5-final"
  },
  "orig_nbformat": 2,
  "kernelspec": {
   "name": "python3",
   "display_name": "Python 3",
   "language": "python"
  }
 },
 "nbformat": 4,
 "nbformat_minor": 2,
 "cells": [
  {
   "source": [
    "A continuación se muestra la información que ofrece cada uno de los archivos de manera resumida"
   ],
   "cell_type": "markdown",
   "metadata": {}
  },
  {
   "cell_type": "code",
   "execution_count": 2,
   "metadata": {},
   "outputs": [
    {
     "output_type": "stream",
     "name": "stdout",
     "text": [
      "<class 'pandas.core.frame.DataFrame'>\nRangeIndex: 286186 entries, 0 to 286185\nData columns (total 22 columns):\n #   Column         Non-Null Count   Dtype  \n---  ------         --------------   -----  \n 0   name           286186 non-null  object \n 1   description    286186 non-null  object \n 2   thumbnail      0 non-null       float64\n 3   image          0 non-null       float64\n 4   rating         286186 non-null  float64\n 5   bayes_rating   286186 non-null  float64\n 6   usersrated     286186 non-null  int64  \n 7   bggrank        286186 non-null  object \n 8   stddev         286186 non-null  float64\n 9   owned          286186 non-null  int64  \n 10  trading        286186 non-null  int64  \n 11  wanting        286186 non-null  int64  \n 12  wishing        286186 non-null  int64  \n 13  numweights     286186 non-null  int64  \n 14  averageweight  286186 non-null  float64\n 15  yearpublished  118643 non-null  float64\n 16  minplayers     118643 non-null  float64\n 17  maxplayers     118643 non-null  float64\n 18  playingtime    118643 non-null  float64\n 19  minplaytime    118643 non-null  float64\n 20  maxplaytime    118643 non-null  float64\n 21  age            118643 non-null  float64\ndtypes: float64(13), int64(6), object(3)\nmemory usage: 48.0+ MB\nNone\n         name                                        description  thumbnail  \\\n0  Die Macher  Die Macher is a game about seven sequential po...        NaN   \n\n   image   rating  bayes_rating  usersrated bggrank   stddev  owned  ...  \\\n0    NaN  7.62855        7.1473        5054     262  1.58914   6855  ...   \n\n   wishing  numweights  averageweight  yearpublished  minplayers  maxplayers  \\\n0     1960         750         4.3347         1986.0         3.0         5.0   \n\n   playingtime  minplaytime  maxplaytime   age  \n0        240.0        240.0        240.0  14.0  \n\n[1 rows x 22 columns]\n"
     ]
    }
   ],
   "source": [
    "import pandas as pd\n",
    "\n",
    "basic_data = pd.read_csv('data/basic_data.csv')\n",
    "\n",
    "print (basic_data.info())\n",
    "print (basic_data.head(1))"
   ]
  },
  {
   "cell_type": "code",
   "execution_count": 3,
   "metadata": {},
   "outputs": [
    {
     "output_type": "stream",
     "name": "stdout",
     "text": [
      "<class 'pandas.core.frame.DataFrame'>\nRangeIndex: 40334 entries, 0 to 40333\nData columns (total 85 columns):\n #   Column                      Non-Null Count  Dtype  \n---  ------                      --------------  -----  \n 0   bayes_rating                40334 non-null  float64\n 1   Economic                    40334 non-null  int64  \n 2   Negotiation                 40334 non-null  int64  \n 3   Political                   40334 non-null  int64  \n 4   Card Game                   40334 non-null  int64  \n 5   Fantasy                     40334 non-null  int64  \n 6   Abstract Strategy           40334 non-null  int64  \n 7   Medieval                    40334 non-null  int64  \n 8   Ancient                     40334 non-null  int64  \n 9   Civilization                40334 non-null  int64  \n 10  Nautical                    40334 non-null  int64  \n 11  Exploration                 40334 non-null  int64  \n 12  Travel                      40334 non-null  int64  \n 13  Farming                     40334 non-null  int64  \n 14  Mythology                   40334 non-null  int64  \n 15  Bluffing                    40334 non-null  int64  \n 16  Science Fiction             40334 non-null  int64  \n 17  Collectible Components      40334 non-null  int64  \n 18  Dice                        40334 non-null  int64  \n 19  Fighting                    40334 non-null  int64  \n 20  Print & Play                40334 non-null  int64  \n 21  Maze                        40334 non-null  int64  \n 22  Miniatures                  40334 non-null  int64  \n 23  Racing                      40334 non-null  int64  \n 24  American West               40334 non-null  int64  \n 25  City Building               40334 non-null  int64  \n 26  Wargame                     40334 non-null  int64  \n 27  Adventure                   40334 non-null  int64  \n 28  Space Exploration           40334 non-null  int64  \n 29  Renaissance                 40334 non-null  int64  \n 30  Modern Warfare              40334 non-null  int64  \n 31  Humor                       40334 non-null  int64  \n 32  Electronic                  40334 non-null  int64  \n 33  Horror                      40334 non-null  int64  \n 34  Novel-based                 40334 non-null  int64  \n 35  Deduction                   40334 non-null  int64  \n 36  Word Game                   40334 non-null  int64  \n 37  Territory Building          40334 non-null  int64  \n 38  Aviation / Flight           40334 non-null  int64  \n 39  Movies / TV / Radio theme   40334 non-null  int64  \n 40  Party Game                  40334 non-null  int64  \n 41  Puzzle                      40334 non-null  int64  \n 42  Real-time                   40334 non-null  int64  \n 43  Trivia                      40334 non-null  int64  \n 44  Industry / Manufacturing    40334 non-null  int64  \n 45  World War II                40334 non-null  int64  \n 46  Expansion for Base-game     40334 non-null  int64  \n 47  American Civil War          40334 non-null  int64  \n 48  Age of Reason               40334 non-null  int64  \n 49  World War I                 40334 non-null  int64  \n 50  Trains                      40334 non-null  int64  \n 51  Animals                     40334 non-null  int64  \n 52  Children's Game             40334 non-null  int64  \n 53  Pirates                     40334 non-null  int64  \n 54  Murder/Mystery              40334 non-null  int64  \n 55  Transportation              40334 non-null  int64  \n 56  Prehistoric                 40334 non-null  int64  \n 57  Action / Dexterity          40334 non-null  int64  \n 58  Sports                      40334 non-null  int64  \n 59  Game System                 40334 non-null  int64  \n 60  Spies/Secret Agents         40334 non-null  int64  \n 61  Educational                 40334 non-null  int64  \n 62  Medical                     40334 non-null  int64  \n 63  Mafia                       40334 non-null  int64  \n 64  Zombies                     40334 non-null  int64  \n 65  Comic Book / Strip          40334 non-null  int64  \n 66  Napoleonic                  40334 non-null  int64  \n 67  Civil War                   40334 non-null  int64  \n 68  American Indian Wars        40334 non-null  int64  \n 69  American Revolutionary War  40334 non-null  int64  \n 70  Post-Napoleonic             40334 non-null  int64  \n 71  Book                        40334 non-null  int64  \n 72  Music                       40334 non-null  int64  \n 73  Environmental               40334 non-null  int64  \n 74  Memory                      40334 non-null  int64  \n 75  Arabian                     40334 non-null  int64  \n 76  Number                      40334 non-null  int64  \n 77  Religious                   40334 non-null  int64  \n 78  Math                        40334 non-null  int64  \n 79  Pike and Shot               40334 non-null  int64  \n 80  Video Game Theme            40334 non-null  int64  \n 81  Mature / Adult              40334 non-null  int64  \n 82  Vietnam War                 40334 non-null  int64  \n 83  Korean War                  40334 non-null  int64  \n 84  Fan Expansion               40334 non-null  int64  \ndtypes: float64(1), int64(84)\nmemory usage: 26.2 MB\nNone\n   bayes_rating  Economic  Negotiation  Political  Card Game  Fantasy  \\\n0        7.1473         1            1          1          0        0   \n\n   Abstract Strategy  Medieval  Ancient  Civilization  ...  Arabian  Number  \\\n0                  0         0        0             0  ...        0       0   \n\n   Religious  Math  Pike and Shot  Video Game Theme  Mature / Adult  \\\n0          0     0              0                 0               0   \n\n   Vietnam War  Korean War  Fan Expansion  \n0            0           0              0  \n\n[1 rows x 85 columns]\n"
     ]
    }
   ],
   "source": [
    "categories_data = pd.read_csv('data/categories_data.csv')\n",
    "\n",
    "print (categories_data.info())\n",
    "print (categories_data.head(1))"
   ]
  },
  {
   "cell_type": "code",
   "execution_count": 4,
   "metadata": {},
   "outputs": [
    {
     "output_type": "stream",
     "name": "stdout",
     "text": [
      "<class 'pandas.core.frame.DataFrame'>\nRangeIndex: 40334 entries, 0 to 40333\nColumns: 184 entries, rating to Legacy Game\ndtypes: float64(2), int64(182)\nmemory usage: 56.6 MB\nNone\n"
     ]
    },
    {
     "output_type": "execute_result",
     "data": {
      "text/plain": [
       "['rating',\n",
       " 'bayes_rating',\n",
       " 'Alliances',\n",
       " 'Area Majority / Influence',\n",
       " 'Auction/Bidding',\n",
       " 'Dice Rolling',\n",
       " 'Hand Management',\n",
       " 'Simultaneous Action Selection',\n",
       " 'Trick-taking',\n",
       " 'Set Collection',\n",
       " 'Tile Placement',\n",
       " 'Action Points',\n",
       " 'Investment',\n",
       " 'Market',\n",
       " 'Ownership',\n",
       " 'Stock Holding',\n",
       " 'Enclosure',\n",
       " 'Pattern Building',\n",
       " 'Pattern Recognition',\n",
       " 'Modular Board',\n",
       " 'Card Drafting',\n",
       " 'Network and Route Building',\n",
       " 'Point to Point Movement',\n",
       " 'Negotiation',\n",
       " 'Trading',\n",
       " 'Auction: Once Around',\n",
       " 'Closed Economy Auction',\n",
       " 'Constrained Bidding',\n",
       " 'Push Your Luck',\n",
       " 'Hexagon Grid',\n",
       " 'Income',\n",
       " 'Race',\n",
       " 'Random Production',\n",
       " 'Variable Setup',\n",
       " 'Roll / Spin and Move',\n",
       " 'Variable Player Powers',\n",
       " 'Action Queue',\n",
       " 'Bias',\n",
       " 'Grid Movement',\n",
       " 'Lose a Turn',\n",
       " 'Programmed Movement',\n",
       " 'Scenario / Mission / Campaign Game',\n",
       " 'Voting',\n",
       " 'Role Playing',\n",
       " 'Events',\n",
       " 'Movement Points',\n",
       " 'Player Elimination',\n",
       " 'Simulation',\n",
       " 'Variable Phase Order',\n",
       " 'Area Movement',\n",
       " 'Commodity Speculation',\n",
       " 'Cooperative Game',\n",
       " 'Rock-Paper-Scissors',\n",
       " 'Sudden Death Ending',\n",
       " 'Highest-Lowest Scoring',\n",
       " 'Betting and Bluffing',\n",
       " 'Memory',\n",
       " 'Score-and-Reset Game',\n",
       " 'Map Addition',\n",
       " 'Secret Unit Deployment',\n",
       " 'Increase Value of Unchosen Resources',\n",
       " 'Ratio / Combat Results Table',\n",
       " 'Turn Order: Progressive',\n",
       " 'Take That',\n",
       " 'Team-Based Game',\n",
       " 'Campaign / Battle Card Driven',\n",
       " 'Tech Trees / Tech Tracks',\n",
       " 'Turn Order: Stat-Based',\n",
       " 'Player Judge',\n",
       " 'Chit-Pull System',\n",
       " 'Square Grid',\n",
       " 'Minimap Resolution',\n",
       " 'Stat Check Resolution',\n",
       " 'Action Timer',\n",
       " 'Pick-up and Deliver',\n",
       " 'Auction: English',\n",
       " 'Auction: Sealed Bid',\n",
       " 'Auction: Turn Order Until Pass',\n",
       " 'Crayon Rail System',\n",
       " 'Multiple Maps',\n",
       " 'Deduction',\n",
       " 'Hidden Roles',\n",
       " 'Flicking',\n",
       " 'Connections',\n",
       " 'Paper-and-Pencil',\n",
       " 'Line Drawing',\n",
       " 'Tug of War',\n",
       " 'Pattern Movement',\n",
       " 'Static Capture',\n",
       " 'Selection Order Bid',\n",
       " 'Different Dice Movement',\n",
       " 'Chaining',\n",
       " 'Ladder Climbing',\n",
       " 'Multiple-Lot Auction',\n",
       " 'Critical Hits and Failures',\n",
       " 'Line of Sight',\n",
       " 'Time Track',\n",
       " 'Zone of Control',\n",
       " 'Bribery',\n",
       " 'End Game Bonuses',\n",
       " 'Area-Impulse',\n",
       " 'Worker Placement',\n",
       " 'Measurement Movement',\n",
       " 'Resource to Move',\n",
       " 'Mancala',\n",
       " 'Real-Time',\n",
       " 'Victory Points as a Resource',\n",
       " 'Kill Steal',\n",
       " 'Hidden Movement',\n",
       " 'Deck Construction',\n",
       " 'Interrupts',\n",
       " 'Action Drafting',\n",
       " 'Turn Order: Role Order',\n",
       " \"Prisoner's Dilemma\",\n",
       " 'Track Movement',\n",
       " 'Hidden Victory Points',\n",
       " 'Movement Template',\n",
       " 'Three Dimensional Movement',\n",
       " 'Auction: Dexterity',\n",
       " 'Slide/Push',\n",
       " 'Map Reduction',\n",
       " 'Auction: Dutch',\n",
       " 'Auction: Dutch Priority',\n",
       " 'Targeted Clues',\n",
       " 'Command Cards',\n",
       " 'Grid Coverage',\n",
       " 'Relative Movement',\n",
       " 'Predictive Bid',\n",
       " 'Action/Event',\n",
       " 'Card Play Conflict Resolution',\n",
       " 'Solo / Solitaire Game',\n",
       " 'I Cut, You Choose',\n",
       " 'Die Icon Resolution',\n",
       " 'Turn Order: Random',\n",
       " 'Elapsed Real Time Ending',\n",
       " 'Advantage Token',\n",
       " 'Storytelling',\n",
       " 'Melding and Splaying',\n",
       " 'Acting',\n",
       " 'Singing',\n",
       " 'Roles with Asymmetric Information',\n",
       " 'Traitor Game',\n",
       " 'Moving Multiple Units',\n",
       " 'Stacking and Balancing',\n",
       " 'Communication Limits',\n",
       " 'Map Deformation',\n",
       " 'Re-rolling and Locking',\n",
       " 'Loans',\n",
       " 'Delayed Purchase',\n",
       " 'Deck, Bag, and Pool Building',\n",
       " 'Speed Matching',\n",
       " 'Impulse Movement',\n",
       " 'Move Through Deck',\n",
       " 'Turn Order: Claim Action',\n",
       " 'Matching',\n",
       " 'Semi-Cooperative Game',\n",
       " 'Physical Removal',\n",
       " 'Single Loser Game',\n",
       " 'Hot Potato',\n",
       " 'Catch the Leader',\n",
       " 'Pieces as Map',\n",
       " 'Once-Per-Game Abilities',\n",
       " 'Follow',\n",
       " 'Cube Tower',\n",
       " 'Finale Ending',\n",
       " 'Turn Order: Auction',\n",
       " 'Induction',\n",
       " 'Auction: Fixed Placement',\n",
       " 'Bingo',\n",
       " 'Order Counters',\n",
       " 'Contracts',\n",
       " 'Layering',\n",
       " 'Drafting',\n",
       " 'Passed Action Token',\n",
       " 'Action Retrieval',\n",
       " 'Turn Order: Pass Order',\n",
       " 'Rondel',\n",
       " 'Worker Placement, Different Worker Types',\n",
       " 'Worker Placement with Dice Workers',\n",
       " 'Automatic Resource Growth',\n",
       " 'Narrative Choice / Paragraph',\n",
       " 'King of the Hill',\n",
       " 'Force Commitment',\n",
       " 'Legacy Game']"
      ]
     },
     "metadata": {},
     "execution_count": 4
    }
   ],
   "source": [
    "mechanics_data = pd.read_csv('data/mechanics_data.csv')\n",
    "\n",
    "\n",
    "print (mechanics_data.info())\n",
    "# print (mechanics_data.head(1))\n",
    "mechanics_data.columns.tolist()"
   ]
  },
  {
   "cell_type": "code",
   "execution_count": 5,
   "metadata": {},
   "outputs": [
    {
     "output_type": "stream",
     "name": "stdout",
     "text": [
      "<class 'pandas.core.frame.DataFrame'>\nRangeIndex: 40334 entries, 0 to 40333\nData columns (total 9 columns):\n #   Column              Non-Null Count  Dtype  \n---  ------              --------------  -----  \n 0   bayes_rating        40334 non-null  float64\n 1   Strategy Games      40334 non-null  int64  \n 2   Abstract Games      40334 non-null  int64  \n 3   Family Games        40334 non-null  int64  \n 4   Thematic Games      40334 non-null  int64  \n 5   Customizable Games  40334 non-null  int64  \n 6   Wargames            40334 non-null  int64  \n 7   Party Games         40334 non-null  int64  \n 8   Children's Games    40334 non-null  int64  \ndtypes: float64(1), int64(8)\nmemory usage: 2.8 MB\nNone\n   bayes_rating  Strategy Games  Abstract Games  Family Games  Thematic Games  \\\n0        7.1473               1               0             0               0   \n\n   Customizable Games  Wargames  Party Games  Children's Games  \n0                   0         0            0                 0  \n"
     ]
    },
    {
     "output_type": "execute_result",
     "data": {
      "text/plain": [
       "5.53942"
      ]
     },
     "metadata": {},
     "execution_count": 5
    }
   ],
   "source": [
    "subdomain_data = pd.read_csv('data/subdomain_data.csv')\n",
    "\n",
    "print (subdomain_data.info())\n",
    "print (subdomain_data.head(1))\n",
    "subdomain_data['bayes_rating'].nunique()\n",
    "subdomain_data['bayes_rating'][40333]"
   ]
  }
 ]
}