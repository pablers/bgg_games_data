{
 "metadata": {
  "language_info": {
   "codemirror_mode": {
    "name": "ipython",
    "version": 3
   },
   "file_extension": ".py",
   "mimetype": "text/x-python",
   "name": "python",
   "nbconvert_exporter": "python",
   "pygments_lexer": "ipython3",
   "version": "3.8.5-final"
  },
  "orig_nbformat": 2,
  "kernelspec": {
   "name": "python3",
   "display_name": "Python 3",
   "language": "python"
  }
 },
 "nbformat": 4,
 "nbformat_minor": 2,
 "cells": [
  {
   "source": [
    "A continuación se muestra la información que ofrece cada uno de los archivos de manera resumida"
   ],
   "cell_type": "markdown",
   "metadata": {}
  },
  {
   "cell_type": "code",
   "execution_count": null,
   "metadata": {},
   "outputs": [],
   "source": [
    "import pandas as pd\n",
    "\n",
    "basic_data = pd.read_csv('data/basic_data.csv')\n",
    "\n",
    "print (basic_data.info())\n",
    "print (basic_data.head(1))"
   ]
  },
  {
   "cell_type": "code",
   "execution_count": null,
   "metadata": {},
   "outputs": [],
   "source": [
    "categories_data = pd.read_csv('data/categories_data.csv')\n",
    "\n",
    "print (categories_data.info())\n",
    "print (categories_data.head(1))"
   ]
  },
  {
   "cell_type": "code",
   "execution_count": null,
   "metadata": {},
   "outputs": [],
   "source": [
    "mechanics_data = pd.read_csv('data/mechanics_data.csv')\n",
    "\n",
    "print (mechanics_data.info())\n",
    "print (mechanics_data.head(1))"
   ]
  },
  {
   "cell_type": "code",
   "execution_count": null,
   "metadata": {},
   "outputs": [],
   "source": [
    "subdomain_data = pd.read_csv('data/subdomain_data.csv')\n",
    "\n",
    "print (subdomain_data.info())\n",
    "print (subdomain_data.head(1))\n",
    "subdomain_data['bayes_rating'].nunique()\n",
    "subdomain_data['bayes_rating'][40333]"
   ]
  }
 ]
}