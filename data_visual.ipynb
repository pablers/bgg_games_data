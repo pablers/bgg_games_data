{
 "metadata": {
  "language_info": {
   "codemirror_mode": {
    "name": "ipython",
    "version": 3
   },
   "file_extension": ".py",
   "mimetype": "text/x-python",
   "name": "python",
   "nbconvert_exporter": "python",
   "pygments_lexer": "ipython3",
   "version": "3.8.5-final"
  },
  "orig_nbformat": 2,
  "kernelspec": {
   "name": "python3",
   "display_name": "Python 3",
   "language": "python"
  }
 },
 "nbformat": 4,
 "nbformat_minor": 2,
 "cells": [
  {
   "cell_type": "code",
   "execution_count": 27,
   "metadata": {},
   "outputs": [
    {
     "output_type": "execute_result",
     "data": {
      "text/plain": [
       "                                     name  \\\n",
       "0                              Die Macher   \n",
       "1                            Dragonmaster   \n",
       "2                                 Samurai   \n",
       "3                          Tal der Könige   \n",
       "4                                 Acquire   \n",
       "...                                   ...   \n",
       "279300  Get Out of Colditz: The Card Game   \n",
       "279854                           Bullet♥︎   \n",
       "281008                        Roll n Cook   \n",
       "281381                       Bristol 1350   \n",
       "282390                  Nemesis: Lockdown   \n",
       "\n",
       "                                              description  thumbnail  image  \\\n",
       "0       Die Macher is a game about seven sequential po...        NaN    NaN   \n",
       "1       Dragonmaster is a trick-taking card game based...        NaN    NaN   \n",
       "2       Samurai is set in medieval Japan. Players comp...        NaN    NaN   \n",
       "3       When you see the triangular box and the luxuri...        NaN    NaN   \n",
       "4       In Acquire, each player strategically invests ...        NaN    NaN   \n",
       "...                                                   ...        ...    ...   \n",
       "279300  Get out of Colditz Card Game (and separately a...        NaN    NaN   \n",
       "279854  In Bullet&hearts;︎, players take on the role o...        NaN    NaN   \n",
       "281008  Roll n Cook is a free &quot;Print&amp;Play&quo...        NaN    NaN   \n",
       "281381  The dreaded Black Death has descended upon the...        NaN    NaN   \n",
       "282390  Nemesis Lockdown is first stand alone expansio...        NaN    NaN   \n",
       "\n",
       "         rating  bayes_rating  usersrated  bggrank   stddev    owned  ...  \\\n",
       "0       7.62855       7.14730      5054.0    262.0  1.58914   6855.0  ...   \n",
       "1       6.61412       5.80514       545.0   3473.0  1.44458   1236.0  ...   \n",
       "2       7.44438       7.24579     14332.0    200.0  1.18342  14756.0  ...   \n",
       "3       6.61683       5.70180       334.0   4583.0  1.23365    616.0  ...   \n",
       "4       7.34397       7.16294     17800.0    254.0  1.33547  22550.0  ...   \n",
       "...         ...           ...         ...      ...      ...      ...  ...   \n",
       "279300  7.51471       5.52432        34.0  12470.0  1.54580    104.0  ...   \n",
       "279854  7.83429       5.58483        70.0   7459.0  1.53622     27.0  ...   \n",
       "281008  8.19163       5.55515        43.0   9171.0  1.36004     62.0  ...   \n",
       "281381  6.57290       5.52067        31.0  12988.0  2.71426     79.0  ...   \n",
       "282390  8.03409       5.54182        44.0  10328.0  2.80502    245.0  ...   \n",
       "\n",
       "        Force Commitment  Legacy Game  Strategy Games  Abstract Games  \\\n",
       "0                    NaN          NaN             NaN             NaN   \n",
       "1                    NaN          NaN             NaN             NaN   \n",
       "2                    NaN          NaN             NaN             NaN   \n",
       "3                    NaN          NaN             NaN             NaN   \n",
       "4                    NaN          NaN             NaN             NaN   \n",
       "...                  ...          ...             ...             ...   \n",
       "279300               NaN          NaN             NaN             NaN   \n",
       "279854               NaN          NaN             NaN             NaN   \n",
       "281008               NaN          NaN             NaN             NaN   \n",
       "281381               NaN          NaN             NaN             NaN   \n",
       "282390               NaN          NaN             NaN             NaN   \n",
       "\n",
       "        Family Games  Thematic Games  Customizable Games  Wargames  \\\n",
       "0                NaN             NaN                 NaN       NaN   \n",
       "1                NaN             NaN                 NaN       NaN   \n",
       "2                NaN             NaN                 NaN       NaN   \n",
       "3                NaN             NaN                 NaN       NaN   \n",
       "4                NaN             NaN                 NaN       NaN   \n",
       "...              ...             ...                 ...       ...   \n",
       "279300           NaN             NaN                 NaN       NaN   \n",
       "279854           NaN             NaN                 NaN       NaN   \n",
       "281008           NaN             NaN                 NaN       NaN   \n",
       "281381           NaN             NaN                 NaN       NaN   \n",
       "282390           NaN             NaN                 NaN       NaN   \n",
       "\n",
       "        Party Games  Children's Games  \n",
       "0               NaN               NaN  \n",
       "1               NaN               NaN  \n",
       "2               NaN               NaN  \n",
       "3               NaN               NaN  \n",
       "4               NaN               NaN  \n",
       "...             ...               ...  \n",
       "279300          NaN               NaN  \n",
       "279854          NaN               NaN  \n",
       "281008          NaN               NaN  \n",
       "281381          NaN               NaN  \n",
       "282390          NaN               NaN  \n",
       "\n",
       "[19157 rows x 293 columns]"
      ],
      "text/html": "<div>\n<style scoped>\n    .dataframe tbody tr th:only-of-type {\n        vertical-align: middle;\n    }\n\n    .dataframe tbody tr th {\n        vertical-align: top;\n    }\n\n    .dataframe thead th {\n        text-align: right;\n    }\n</style>\n<table border=\"1\" class=\"dataframe\">\n  <thead>\n    <tr style=\"text-align: right;\">\n      <th></th>\n      <th>name</th>\n      <th>description</th>\n      <th>thumbnail</th>\n      <th>image</th>\n      <th>rating</th>\n      <th>bayes_rating</th>\n      <th>usersrated</th>\n      <th>bggrank</th>\n      <th>stddev</th>\n      <th>owned</th>\n      <th>...</th>\n      <th>Force Commitment</th>\n      <th>Legacy Game</th>\n      <th>Strategy Games</th>\n      <th>Abstract Games</th>\n      <th>Family Games</th>\n      <th>Thematic Games</th>\n      <th>Customizable Games</th>\n      <th>Wargames</th>\n      <th>Party Games</th>\n      <th>Children's Games</th>\n    </tr>\n  </thead>\n  <tbody>\n    <tr>\n      <th>0</th>\n      <td>Die Macher</td>\n      <td>Die Macher is a game about seven sequential po...</td>\n      <td>NaN</td>\n      <td>NaN</td>\n      <td>7.62855</td>\n      <td>7.14730</td>\n      <td>5054.0</td>\n      <td>262.0</td>\n      <td>1.58914</td>\n      <td>6855.0</td>\n      <td>...</td>\n      <td>NaN</td>\n      <td>NaN</td>\n      <td>NaN</td>\n      <td>NaN</td>\n      <td>NaN</td>\n      <td>NaN</td>\n      <td>NaN</td>\n      <td>NaN</td>\n      <td>NaN</td>\n      <td>NaN</td>\n    </tr>\n    <tr>\n      <th>1</th>\n      <td>Dragonmaster</td>\n      <td>Dragonmaster is a trick-taking card game based...</td>\n      <td>NaN</td>\n      <td>NaN</td>\n      <td>6.61412</td>\n      <td>5.80514</td>\n      <td>545.0</td>\n      <td>3473.0</td>\n      <td>1.44458</td>\n      <td>1236.0</td>\n      <td>...</td>\n      <td>NaN</td>\n      <td>NaN</td>\n      <td>NaN</td>\n      <td>NaN</td>\n      <td>NaN</td>\n      <td>NaN</td>\n      <td>NaN</td>\n      <td>NaN</td>\n      <td>NaN</td>\n      <td>NaN</td>\n    </tr>\n    <tr>\n      <th>2</th>\n      <td>Samurai</td>\n      <td>Samurai is set in medieval Japan. Players comp...</td>\n      <td>NaN</td>\n      <td>NaN</td>\n      <td>7.44438</td>\n      <td>7.24579</td>\n      <td>14332.0</td>\n      <td>200.0</td>\n      <td>1.18342</td>\n      <td>14756.0</td>\n      <td>...</td>\n      <td>NaN</td>\n      <td>NaN</td>\n      <td>NaN</td>\n      <td>NaN</td>\n      <td>NaN</td>\n      <td>NaN</td>\n      <td>NaN</td>\n      <td>NaN</td>\n      <td>NaN</td>\n      <td>NaN</td>\n    </tr>\n    <tr>\n      <th>3</th>\n      <td>Tal der Könige</td>\n      <td>When you see the triangular box and the luxuri...</td>\n      <td>NaN</td>\n      <td>NaN</td>\n      <td>6.61683</td>\n      <td>5.70180</td>\n      <td>334.0</td>\n      <td>4583.0</td>\n      <td>1.23365</td>\n      <td>616.0</td>\n      <td>...</td>\n      <td>NaN</td>\n      <td>NaN</td>\n      <td>NaN</td>\n      <td>NaN</td>\n      <td>NaN</td>\n      <td>NaN</td>\n      <td>NaN</td>\n      <td>NaN</td>\n      <td>NaN</td>\n      <td>NaN</td>\n    </tr>\n    <tr>\n      <th>4</th>\n      <td>Acquire</td>\n      <td>In Acquire, each player strategically invests ...</td>\n      <td>NaN</td>\n      <td>NaN</td>\n      <td>7.34397</td>\n      <td>7.16294</td>\n      <td>17800.0</td>\n      <td>254.0</td>\n      <td>1.33547</td>\n      <td>22550.0</td>\n      <td>...</td>\n      <td>NaN</td>\n      <td>NaN</td>\n      <td>NaN</td>\n      <td>NaN</td>\n      <td>NaN</td>\n      <td>NaN</td>\n      <td>NaN</td>\n      <td>NaN</td>\n      <td>NaN</td>\n      <td>NaN</td>\n    </tr>\n    <tr>\n      <th>...</th>\n      <td>...</td>\n      <td>...</td>\n      <td>...</td>\n      <td>...</td>\n      <td>...</td>\n      <td>...</td>\n      <td>...</td>\n      <td>...</td>\n      <td>...</td>\n      <td>...</td>\n      <td>...</td>\n      <td>...</td>\n      <td>...</td>\n      <td>...</td>\n      <td>...</td>\n      <td>...</td>\n      <td>...</td>\n      <td>...</td>\n      <td>...</td>\n      <td>...</td>\n      <td>...</td>\n    </tr>\n    <tr>\n      <th>279300</th>\n      <td>Get Out of Colditz: The Card Game</td>\n      <td>Get out of Colditz Card Game (and separately a...</td>\n      <td>NaN</td>\n      <td>NaN</td>\n      <td>7.51471</td>\n      <td>5.52432</td>\n      <td>34.0</td>\n      <td>12470.0</td>\n      <td>1.54580</td>\n      <td>104.0</td>\n      <td>...</td>\n      <td>NaN</td>\n      <td>NaN</td>\n      <td>NaN</td>\n      <td>NaN</td>\n      <td>NaN</td>\n      <td>NaN</td>\n      <td>NaN</td>\n      <td>NaN</td>\n      <td>NaN</td>\n      <td>NaN</td>\n    </tr>\n    <tr>\n      <th>279854</th>\n      <td>Bullet♥︎</td>\n      <td>In Bullet&amp;hearts;︎, players take on the role o...</td>\n      <td>NaN</td>\n      <td>NaN</td>\n      <td>7.83429</td>\n      <td>5.58483</td>\n      <td>70.0</td>\n      <td>7459.0</td>\n      <td>1.53622</td>\n      <td>27.0</td>\n      <td>...</td>\n      <td>NaN</td>\n      <td>NaN</td>\n      <td>NaN</td>\n      <td>NaN</td>\n      <td>NaN</td>\n      <td>NaN</td>\n      <td>NaN</td>\n      <td>NaN</td>\n      <td>NaN</td>\n      <td>NaN</td>\n    </tr>\n    <tr>\n      <th>281008</th>\n      <td>Roll n Cook</td>\n      <td>Roll n Cook is a free &amp;quot;Print&amp;amp;Play&amp;quo...</td>\n      <td>NaN</td>\n      <td>NaN</td>\n      <td>8.19163</td>\n      <td>5.55515</td>\n      <td>43.0</td>\n      <td>9171.0</td>\n      <td>1.36004</td>\n      <td>62.0</td>\n      <td>...</td>\n      <td>NaN</td>\n      <td>NaN</td>\n      <td>NaN</td>\n      <td>NaN</td>\n      <td>NaN</td>\n      <td>NaN</td>\n      <td>NaN</td>\n      <td>NaN</td>\n      <td>NaN</td>\n      <td>NaN</td>\n    </tr>\n    <tr>\n      <th>281381</th>\n      <td>Bristol 1350</td>\n      <td>The dreaded Black Death has descended upon the...</td>\n      <td>NaN</td>\n      <td>NaN</td>\n      <td>6.57290</td>\n      <td>5.52067</td>\n      <td>31.0</td>\n      <td>12988.0</td>\n      <td>2.71426</td>\n      <td>79.0</td>\n      <td>...</td>\n      <td>NaN</td>\n      <td>NaN</td>\n      <td>NaN</td>\n      <td>NaN</td>\n      <td>NaN</td>\n      <td>NaN</td>\n      <td>NaN</td>\n      <td>NaN</td>\n      <td>NaN</td>\n      <td>NaN</td>\n    </tr>\n    <tr>\n      <th>282390</th>\n      <td>Nemesis: Lockdown</td>\n      <td>Nemesis Lockdown is first stand alone expansio...</td>\n      <td>NaN</td>\n      <td>NaN</td>\n      <td>8.03409</td>\n      <td>5.54182</td>\n      <td>44.0</td>\n      <td>10328.0</td>\n      <td>2.80502</td>\n      <td>245.0</td>\n      <td>...</td>\n      <td>NaN</td>\n      <td>NaN</td>\n      <td>NaN</td>\n      <td>NaN</td>\n      <td>NaN</td>\n      <td>NaN</td>\n      <td>NaN</td>\n      <td>NaN</td>\n      <td>NaN</td>\n      <td>NaN</td>\n    </tr>\n  </tbody>\n</table>\n<p>19157 rows × 293 columns</p>\n</div>"
     },
     "metadata": {},
     "execution_count": 27
    }
   ],
   "source": [
    "import pandas as pd\n",
    "import matplotlib.pyplot as plt\n",
    "%store -r full_data_bgg\n",
    "\n",
    "full_data_bgg[::][0:]"
   ]
  }
 ]
}